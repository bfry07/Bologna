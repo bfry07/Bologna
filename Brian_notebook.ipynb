{
 "cells": [
  {
   "cell_type": "code",
   "execution_count": null,
   "id": "94b81c98-10fe-4f0c-80fe-c67b32654dec",
   "metadata": {},
   "outputs": [],
   "source": [
    "# IMPORT PACKAGES, DATA, AND FUNCTIONS FROM SEPARATE FILE\n",
    "from package_bfry import *"
   ]
  },
  {
   "cell_type": "code",
   "execution_count": null,
   "id": "a3a540a6-440a-472a-86ec-c482f7ed2556",
   "metadata": {},
   "outputs": [],
   "source": [
    "# DESCRIPTIVE EXPLORATION #\n",
    "# create maps that explore the geographic variation of the metrics produced "
   ]
  },
  {
   "cell_type": "code",
   "execution_count": null,
   "id": "be63d151-119d-48cb-a7a3-851572236e1e",
   "metadata": {},
   "outputs": [],
   "source": [
    "# HOUSEHOLD SIZE\n",
    "# map the household size\n",
    "base_map_2019.explore(column = 'avg_household_size', cmap = 'RdBu_r', tooltip = ('zona_fiu', 'population', 'households', 'avg_household_size'), \n",
    "                                          tiles = 'CartoDB positron', legend=True)"
   ]
  },
  {
   "cell_type": "code",
   "execution_count": null,
   "id": "a881f2f6-7e9e-4d7f-b64b-256452b0f66e",
   "metadata": {},
   "outputs": [],
   "source": [
    "# explore gyms per 1000\n",
    "amenities_2019.explore(column = 'gyms_per_1000', cmap = 'RdBu', tooltip = ('zona_fiu', 'population', 'gyms_per_1000'), \n",
    "                                          tiles = 'CartoDB positron', legend=True)"
   ]
  },
  {
   "cell_type": "code",
   "execution_count": null,
   "id": "2c6b53c2-3723-4297-beba-5f0576daee97",
   "metadata": {},
   "outputs": [],
   "source": [
    "# airbnb #\n",
    "# base dataset : airbnb_agg\n",
    "\n",
    "create_map(base_map_2019, airbnb_agg, 'household', 'airbnb', airbnb)"
   ]
  },
  {
   "cell_type": "code",
   "execution_count": null,
   "id": "a2db3d79-ccf1-44a7-bdbf-8a75dd9197b2",
   "metadata": {},
   "outputs": [],
   "source": [
    "# WIFI #\n",
    "# base dataset : wifi_agg\n",
    "\n",
    "# map the wifi per capita\n",
    "create_map(base_map_2019, wifi_agg, 'population', 'hotspot', wifi, quotient = 1000)"
   ]
  },
  {
   "cell_type": "code",
   "execution_count": null,
   "id": "36ae9e10-da09-4c0c-97f7-2249d4c9d4cf",
   "metadata": {},
   "outputs": [],
   "source": [
    "# PARTICIPATORY BUDGET #\n",
    "# base dataset : budg_geo\n",
    "\n",
    "    # process data for mapping\n",
    "# aggregate the count of participative budget projects at the neighborhood level\n",
    "# TO DO - resolve mixed geometry situation\n",
    "#budg_agg = \n",
    "#gpd.overlay(base_map_2019, budg_geo, how='intersection', keep_geom_type=False) #.groupby('cod_zona').count()\n",
    "#budg_agg\n",
    "# rename and subset the data just to the count of the projects per neighborhood\n",
    "#budg_agg = budg_agg.rename(columns={'Progetto':'project_count'})['project_count']\n",
    "budg_geo.explore()\n",
    "    # map the data\n",
    "#create_map(base_map_2019, budg_agg, 'population', 'project', budg_geo, quotient = 1000)"
   ]
  },
  {
   "cell_type": "code",
   "execution_count": null,
   "id": "f6d8d22d-67bd-46e8-afb9-fc374c95de0e",
   "metadata": {},
   "outputs": [],
   "source": [
    "# explore traffic per capita at the zone level\n",
    "transport_2019.explore(column = 'traffic_per_1000', cmap = 'RdBu_r')"
   ]
  },
  {
   "cell_type": "code",
   "execution_count": null,
   "id": "d69e0623-f6de-4af4-94f1-d4229fad37cb",
   "metadata": {},
   "outputs": [],
   "source": [
    "# explore bike parking per capita / household\n",
    "transport_2019.explore(column = 'bike_parking_per_household', cmap = 'RdBu_r')"
   ]
  },
  {
   "cell_type": "code",
   "execution_count": null,
   "id": "bf61f34d-5fd8-4749-8d1c-9883fa09497d",
   "metadata": {},
   "outputs": [],
   "source": [
    "# explore bus stops per capita\n",
    "transport_2019.explore(column = 'tper_stops_per_1000', cmap = 'RdBu_r')"
   ]
  },
  {
   "cell_type": "code",
   "execution_count": null,
   "id": "c8459c99-9a76-442e-aa50-847ef8c25922",
   "metadata": {},
   "outputs": [],
   "source": [
    "# calculate the number of traffic coils per zone to determine the adequacy of this measurement \n",
    "base_map_2019.join(traffic_2019_geo.sjoin(base_map_2019[['geometry']]).groupby('index_right')['day_total_traffic'].count()).explore(column = 'day_total_traffic', tooltip= ('day_total_traffic'), cmap = 'RdBu_r')"
   ]
  },
  {
   "cell_type": "code",
   "execution_count": null,
   "id": "c571cd16-7b4c-40d1-9ffc-548dedadb87a",
   "metadata": {},
   "outputs": [],
   "source": [
    "# MULTI VARIABLE ANALYSIS #\n",
    "    # explore and select metrics to use in categorization of Bologna's zones\n",
    "    # create a dataframe of variables to be analyzed together\n",
    "        # can add or remove metrics for analysis as needed\n",
    "        # standardize the data by using z-scores - allows for simple comparison / analysis of above, at, or below average across the city's zones\n",
    "    # run k-means cluster analysis on the standardized datasets\n",
    "    # use principal components analysis (PCA) to complement the k-means clustering method - creating linear systems that explain as much variance as possible"
   ]
  },
  {
   "cell_type": "code",
   "execution_count": null,
   "id": "e0155362-ebcf-40d3-a2f2-90dbb6e13b35",
   "metadata": {},
   "outputs": [],
   "source": [
    "# calculate the z-score to give a more standard frame of rereference across metrics\n",
    "df_z = (all_metrics - all_metrics.mean())/all_metrics.std()\n",
    "\n",
    "# reorder columns for visualization purposes\n",
    "cols = ['00-14', '15-29', '30-44', '45-64', '65 e oltre',\n",
    "        'population', 'pop_density_km2', 'avg_income', 'workers_per_cap', 'students_per_cap',\n",
    "        'traffic_per_1000', 'incident_per_traffic', 'injured_per_incident', 'mortality_per_incident', \n",
    "        'bike_parking_per_1000', 'bike_m_per_capita', 'percent_protected_bike', 'tper_stops_per_1000',\n",
    "        'arredo_per_1000', 'p_arredo_good', 'gyms_per_1000', 'school_per_1000_child', 'wifi_per_1000', 'airbnb_per_household']\n",
    "df_z = df_z[cols]\n",
    "\n",
    "    # create a subset of just base/socioecon related metrics\n",
    "df_z_socioecon = df_z[['population', '00-14', '15-29', '30-44', '45-64', '65 e oltre',\n",
    "       'avg_income', 'workers_per_cap', 'students_per_cap', 'pop_density_km2']]\n",
    "\n",
    "    # create a subset of just transport related metrics\n",
    "df_z_transport = df_z[['injured_per_incident', 'mortality_per_incident',\n",
    "       'incident_per_traffic', 'bike_parking_per_1000', 'bike_m_per_capita',\n",
    "       'percent_protected_bike', 'tper_stops_per_1000']]\n",
    "\n",
    "    # create a subset of just amenities related metrics\n",
    "df_z_amenities = df_z[['p_arredo_good',\n",
    "       'school_per_1000_child', 'arredo_per_1000', 'wifi_per_1000',\n",
    "       'airbnb_per_household', 'gyms_per_1000']]"
   ]
  },
  {
   "cell_type": "code",
   "execution_count": null,
   "id": "b09b74d4-95ce-4262-9c9f-6aae88983e1f",
   "metadata": {},
   "outputs": [],
   "source": [
    "# plot the distribution for each variable to explore variation\n",
    "for column in df_z:\n",
    "    df_z[[column]].plot.hist()"
   ]
  },
  {
   "cell_type": "code",
   "execution_count": null,
   "id": "861e2fa6-8387-404d-9417-3a2580430d66",
   "metadata": {
    "scrolled": true
   },
   "outputs": [],
   "source": [
    "# scattter matrix to view distributions and correlations together\n",
    "pd.plotting.scatter_matrix(df_z_socioecon, diagonal=\"kde\",figsize=(20,15))\n",
    "plt.show()\n",
    "#df_z\n",
    "#hinton(df_z.corr())\n",
    "df_z.corr()"
   ]
  },
  {
   "cell_type": "code",
   "execution_count": null,
   "id": "7e5c51e8-0987-4740-8d1d-011b2635f40a",
   "metadata": {},
   "outputs": [],
   "source": [
    "# visual test for best number of clusters\n",
    "    # should use n-1 where n is the \"elbow\" of the plot where slope significantly changes\n",
    "import matplotlib.pyplot as plt\n",
    "%matplotlib inline\n",
    "\n",
    "numClusters = [1,2,3,4,5,6,7,8]\n",
    "SSE = []\n",
    "for k in numClusters:\n",
    "    k_means = cluster.KMeans(n_clusters=k)\n",
    "    k_means.fit(df_z)\n",
    "    SSE.append(k_means.inertia_)\n",
    "\n",
    "plt.plot(numClusters, SSE)\n",
    "plt.xlabel('Number of Clusters')\n",
    "plt.ylabel('SSE')\n",
    "plt.show()"
   ]
  },
  {
   "cell_type": "code",
   "execution_count": null,
   "id": "6b852dcd-8b2b-4a20-a57f-0cfeccdfe2bf",
   "metadata": {},
   "outputs": [],
   "source": [
    "# create a 4-cluster model using all metrics\n",
    "# this model will be the current subject of further research and visualization\n",
    "df_z_clusters_4 = km_cluster_analysis(df_z, 4, base_map_2019)\n",
    "# rename the clusters to have more meaningful titles\n",
    "df_z_clusters_4.geo['Cluster'] = df_z_clusters_4.geo['Cluster'].str.replace('0', 'Eastern Outliers')\n",
    "df_z_clusters_4.geo['Cluster'] = df_z_clusters_4.geo['Cluster'].str.replace('1', 'Outer Ring')\n",
    "df_z_clusters_4.geo['Cluster'] = df_z_clusters_4.geo['Cluster'].str.replace('2', 'Inner Ring')\n",
    "df_z_clusters_4.geo['Cluster'] = df_z_clusters_4.geo['Cluster'].str.replace('3', 'Center')\n",
    "# rename the centroid clusters as well for the visualization-producing function\n",
    "# create a new column in he centroids data table that holds the given titles\n",
    "df_z_clusters_4.centroids['index'] = df_z_clusters_4.centroids.reset_index()['index'].replace(0, 'Eastern Outliers')\n",
    "df_z_clusters_4.centroids['index'] = df_z_clusters_4.centroids.reset_index()['index'].replace(1, 'Outer Ring')\n",
    "df_z_clusters_4.centroids['index'] = df_z_clusters_4.centroids.reset_index()['index'].replace(2, 'Inner Ring')\n",
    "df_z_clusters_4.centroids['index'] = df_z_clusters_4.centroids.reset_index()['index'].replace(3, 'Center')\n",
    "# set this new column as the table's index - this will help create the visualizations correctly\n",
    "df_z_clusters_4.centroids = df_z_clusters_4.centroids.set_index('index')\n",
    "# output the map\n",
    "df_z_clusters_4.geo.explore(column = 'Cluster', cmap = ['red','blue','green','orange'], tiles= \"CartoDB positron\", tooltip = ('zona_fiu','Cluster'))"
   ]
  },
  {
   "cell_type": "code",
   "execution_count": null,
   "id": "4be68112-c9de-41c3-a461-c9a329973242",
   "metadata": {},
   "outputs": [],
   "source": [
    "# display the average z-score for each metric across each cluster (the centroids of each cluster)\n",
    "# this tells us about the character of each cluster\n",
    "# for interpretation: a more negative/positive number means a cluster is characterized by being more below/above the average across all zones\n",
    "df_z_clusters_4.centroids"
   ]
  },
  {
   "cell_type": "code",
   "execution_count": null,
   "id": "b8c61261-2064-41e9-a996-6e18a2c3eda3",
   "metadata": {},
   "outputs": [],
   "source": [
    "for id in ['x','Eastern Outliers','Outer Ring','Inner Ring','Center']:\n",
    "    for metrics_list in [['00-14', '15-29', '30-44', '45-64', '65 e oltre'],\n",
    "                        ['population', 'pop_density_km2', 'avg_income', 'workers_per_cap', 'students_per_cap'],\n",
    "                        ['traffic_per_1000', 'incident_per_traffic', 'injured_per_incident', 'mortality_per_incident'], \n",
    "                        ['bike_parking_per_1000', 'bike_m_per_capita', 'percent_protected_bike', 'tper_stops_per_1000'],\n",
    "                        ['arredo_per_1000', 'p_arredo_good', 'gyms_per_1000', 'school_per_1000_child', 'wifi_per_1000', 'airbnb_per_household']]:\n",
    "            # display the line charts\n",
    "            cluster_line_chart(cluster_data = df_z_clusters_4, \n",
    "                analysis_data = df_z,\n",
    "                cluster_id = id, \n",
    "                metrics = metrics_list)"
   ]
  },
  {
   "cell_type": "code",
   "execution_count": null,
   "id": "30d184c0-84ba-4dac-b7d0-439d4fb2bf3d",
   "metadata": {},
   "outputs": [],
   "source": [
    "# calculate the average distance between the cluster members and the centroid\n",
    "# this measure is an indicator of the strength of the relationship in the clusters\n",
    "for id in ['Eastern Outliers','Outer Ring','Inner Ring','Center']:\n",
    "    df_iter = df_z.join(df_z_clusters_4.geo['Cluster']).loc[df_z_clusters_4.geo['Cluster'] == id].drop(columns=['Cluster'])\n",
    "    centroid = df_z_clusters_4.centroids.loc[df_z_clusters_4.centroids.index == id].to_numpy()[0]\n",
    "    sum = 0\n",
    "    for row in range(len(df_iter)):\n",
    "        sum += dist(df_iter.iloc[row].to_numpy(),centroid)\n",
    "    print(id + ' avg distance from centroid: ' + str(round(sum/len(df_iter),3)))"
   ]
  },
  {
   "cell_type": "code",
   "execution_count": null,
   "id": "27b502c4-cd58-48ef-a857-a37d15409aff",
   "metadata": {},
   "outputs": [],
   "source": [
    "# display the distance of each zone from its cluster's centroid\n",
    "# this indicates how far away the zone is from the 'typical' zone of the cluster and will more easily show outliers\n",
    "for id in ['Eastern Outliers','Outer Ring','Inner Ring','Center']:\n",
    "    df_iter = df_z.join(df_z_clusters_4.geo['Cluster']).loc[df_z_clusters_4.geo['Cluster'] == id].drop(columns=['Cluster'])\n",
    "    centroid = df_z_clusters_4.centroids.loc[df_z_clusters_4.centroids.index == id].to_numpy()[0]\n",
    "    data = []\n",
    "    for row in range(len(df_iter)):\n",
    "        data.append([df_iter.index[row], dist(df_iter.iloc[row].to_numpy(),centroid)])\n",
    "        #print(df_iter.index[row] + ' distance from centroid: ' + str(dist(df_iter.iloc[row].to_numpy(),centroid)))\n",
    "    data.sort(key=lambda i: i[1], reverse = True)\n",
    "    pprint(data)\n",
    "    print('\\n')"
   ]
  },
  {
   "cell_type": "code",
   "execution_count": null,
   "id": "54dee14f-97cb-4760-820b-fc018c3ad6a9",
   "metadata": {},
   "outputs": [],
   "source": [
    "# output charts focusing on croce del biacco - roveri as an outlier in the outer ring cluster\n",
    "for metrics_list in [['00-14', '15-29', '30-44', '45-64', '65 e oltre'],\n",
    "                        ['population', 'pop_density_km2', 'avg_income', 'workers_per_cap', 'students_per_cap'],\n",
    "                        ['traffic_per_1000', 'incident_per_traffic', 'injured_per_incident', 'mortality_per_incident'], \n",
    "                        ['bike_parking_per_1000', 'bike_m_per_capita', 'percent_protected_bike', 'tper_stops_per_1000'],\n",
    "                        ['arredo_per_1000', 'p_arredo_good', 'gyms_per_1000', 'school_per_1000_child', 'wifi_per_1000', 'airbnb_per_household']]:\n",
    "            # display the line charts\n",
    "            cluster_line_chart(cluster_data = df_z_clusters_4, \n",
    "                analysis_data = df_z.loc[df_z.index == 'CROCE DEL BIACCO - ROVERI'],\n",
    "                cluster_id = 'Outer Ring', \n",
    "                metrics = metrics_list,\n",
    "                colors = 'rainbow')"
   ]
  },
  {
   "cell_type": "code",
   "execution_count": null,
   "id": "7b1b6de1-85d4-4e9d-bede-d8051a92c8a5",
   "metadata": {},
   "outputs": [],
   "source": [
    "# output charts focusing on croce del biacco - roveri as an outlier in the outer ring cluster\n",
    "for metrics_list in [['00-14', '15-29', '30-44', '45-64', '65 e oltre'],\n",
    "                        ['population', 'pop_density_km2', 'avg_income', 'workers_per_cap', 'students_per_cap'],\n",
    "                        ['traffic_per_1000', 'incident_per_traffic', 'injured_per_incident', 'mortality_per_incident'], \n",
    "                        ['bike_parking_per_1000', 'bike_m_per_capita', 'percent_protected_bike', 'tper_stops_per_1000'],\n",
    "                        ['arredo_per_1000', 'p_arredo_good', 'gyms_per_1000', 'school_per_1000_child', 'wifi_per_1000', 'airbnb_per_household']]:\n",
    "            # display the line charts\n",
    "            cluster_line_chart(cluster_data = df_z_clusters_4, \n",
    "                analysis_data = df_z.loc[df_z.index == 'OSSERVANZA - PADERNO'],\n",
    "                cluster_id = 'Outer Ring', \n",
    "                metrics = metrics_list,\n",
    "                colors = 'rainbow')"
   ]
  },
  {
   "cell_type": "code",
   "execution_count": null,
   "id": "9186b48e-d4f2-4d51-b00c-1676afef7158",
   "metadata": {},
   "outputs": [],
   "source": [
    "# output charts focusing on croce del biacco - roveri as an outlier in the outer ring cluster\n",
    "for metrics_list in [['00-14', '15-29', '30-44', '45-64', '65 e oltre'],\n",
    "                        ['population', 'pop_density_km2', 'avg_income', 'workers_per_cap', 'students_per_cap'],\n",
    "                        ['traffic_per_1000', 'incident_per_traffic', 'injured_per_incident', 'mortality_per_incident'], \n",
    "                        ['bike_parking_per_1000', 'bike_m_per_capita', 'percent_protected_bike', 'tper_stops_per_1000'],\n",
    "                        ['arredo_per_1000', 'p_arredo_good', 'gyms_per_1000', 'school_per_1000_child', 'wifi_per_1000', 'airbnb_per_household']]:\n",
    "            # display the line charts\n",
    "            cluster_line_chart(cluster_data = df_z_clusters_4, \n",
    "                analysis_data = df_z.loc[df_z.index == 'SARAGOZZA - SAN LUCA'],\n",
    "                cluster_id = 'Inner Ring', \n",
    "                metrics = metrics_list,\n",
    "                colors = 'rainbow')"
   ]
  },
  {
   "cell_type": "code",
   "execution_count": null,
   "id": "c139c609-5145-4a68-947d-f60ec9208de5",
   "metadata": {},
   "outputs": [],
   "source": [
    "# perform 4-cluster analysis on df_z_socioecon (socioecon metrics only) and display results\n",
    "df_socio_clusters_4 = km_cluster_analysis(df_z_socioecon, 4, base_map_2019)\n",
    "df_socio_clusters_4.geo.explore(column = 'Cluster', cmap = ['blue','orange','green','red'], tiles= \"CartoDB positron\", tooltip = ('zona_fiu','Cluster'))"
   ]
  },
  {
   "cell_type": "code",
   "execution_count": null,
   "id": "12ec227b-0dc6-45db-8f36-524c7f729601",
   "metadata": {},
   "outputs": [],
   "source": [
    "# display the centroids for the 4-cluster analysis of just socioeconomic metrics\n",
    "df_socio_clusters_4.centroids"
   ]
  },
  {
   "cell_type": "code",
   "execution_count": null,
   "id": "8a1c6d93-b398-47dc-b17f-5fe57c6284ca",
   "metadata": {},
   "outputs": [],
   "source": [
    "for id in ['x','0','1','2','3']:\n",
    "    for metrics_list in [['00-14', '15-29', '30-44', '45-64', '65 e oltre'],\n",
    "                        ['population', 'pop_density_km2', 'inv_avg_household_size', 'avg_income', 'workers_per_cap', 'students_per_cap']]:\n",
    "            # display the line charts\n",
    "            cluster_line_chart(cluster_data = df_socio_clusters_4, \n",
    "                analysis_data = df_z_socioecon, \n",
    "                cluster_id = id, \n",
    "                metrics = metrics_list)"
   ]
  },
  {
   "cell_type": "code",
   "execution_count": null,
   "id": "bafb81f8-77de-4b14-a9c2-2b8efe973e60",
   "metadata": {},
   "outputs": [],
   "source": [
    "# perform cluster analysis on df_z_transport (transport metrics only) and display results\n",
    "# screeplot (the \"elbow\" graph) analysis of this dataset yielded a result that suggested 2 clusters was most meaningful \n",
    "df_transport_clusters_4 = km_cluster_analysis(df_z_transport, 4, base_map_2019)\n",
    "df_transport_clusters_4.geo.explore(column = 'Cluster', cmap = ['blue','orange','green','red'], tiles= \"CartoDB positron\", tooltip = ('zona_fiu','Cluster'))\n",
    "# should try to add more transportation related metrics and determine if this creates more meaningful insight"
   ]
  },
  {
   "cell_type": "code",
   "execution_count": null,
   "id": "e11244ea-9431-45aa-bd79-d4d4d52788f2",
   "metadata": {},
   "outputs": [],
   "source": [
    "# display the centroids for the 4-cluster analysis of just socioeconomic metrics\n",
    "df_transport_clusters_4.centroids"
   ]
  },
  {
   "cell_type": "code",
   "execution_count": null,
   "id": "7c92396b-7dd3-4bce-a8df-ada305ade5a0",
   "metadata": {},
   "outputs": [],
   "source": [
    "for id in ['x','0','1','2','3']:\n",
    "    for metrics_list in [['traffic_per_1000', 'incident_per_1000', 'incident_per_traffic', 'injured_per_1000', 'injured_per_incident', 'mortality_per_1000'], \n",
    "                        ['bike_parking_per_1000', 'bike_m_per_capita', 'percent_protected_bike', 'tper_stops_per_1000']]:\n",
    "            # display the line charts\n",
    "            cluster_line_chart(cluster_data = df_transport_clusters_4, \n",
    "                analysis_data = df_z_transport, \n",
    "                cluster_id = id, \n",
    "                metrics = metrics_list)"
   ]
  },
  {
   "cell_type": "code",
   "execution_count": null,
   "id": "21f76b8e-6f52-44cd-9e38-90f617ca9ebb",
   "metadata": {},
   "outputs": [],
   "source": [
    "# perform 4-cluster analysis on df_z_socioecon (socioecon metrics only) and display results\n",
    "df_amenities_clusters_4 = km_cluster_analysis(df_z_amenities, 4, base_map_2019)\n",
    "df_amenities_clusters_4.geo.explore(column = 'Cluster', cmap = ['blue','orange','green','red'], tiles= \"CartoDB positron\", tooltip = ('zona_fiu','Cluster'))"
   ]
  },
  {
   "cell_type": "code",
   "execution_count": null,
   "id": "95b45801-f974-4b66-87da-d60fa0f2e63a",
   "metadata": {},
   "outputs": [],
   "source": [
    "for id in ['x','0','1','2','3']:\n",
    "    for metrics_list in [['p_arredo_good', 'arredo_per_1000', 'school_per_1000_child', 'airbnb_per_household', 'gyms_per_1000', 'wifi_per_1000']]:\n",
    "            # display the line charts\n",
    "            cluster_line_chart(cluster_data = df_amenities_clusters_4, \n",
    "                analysis_data = df_z_amenities, \n",
    "                cluster_id = id, \n",
    "                metrics = metrics_list)"
   ]
  },
  {
   "cell_type": "code",
   "execution_count": null,
   "id": "53bd44d1-d6db-43a9-b882-2602978dc477",
   "metadata": {},
   "outputs": [],
   "source": [
    "    # principal compoenents analysis\n",
    "# set the resulting categories of the cluster analysis as dependent variable \n",
    "y = df_z_clusters_4.geo.reset_index()[['zona_fiu','Cluster']].sort_values(by = 'Cluster')\n",
    "\n",
    "# process the dataset to allow cosnsistent labelling of clusters and sensable legend\n",
    "# joins the Clusters to the analyzed dataframe, sorts by the Cluster given in the k-means cluster analysis, then removes the ID again for the PCA\n",
    "df_z_pca = df_z.join(df_z_clusters_4.geo[['Cluster']]).reset_index().sort_values(by = 'Cluster').drop(columns=['Cluster']).set_index('zona_fiu')\n",
    "\n",
    "# define the principal component analysis from the standardized z-score data\n",
    "pca = PCA().fit(df_z_pca)\n",
    "\n",
    "# display a scatterplot of the data to show the clusters in comparison to the first two principal components\n",
    "pca_scatter(pca, df_z_pca, y)\n",
    "# the PCA analysis and the cluster analysis appear compatible"
   ]
  },
  {
   "cell_type": "code",
   "execution_count": null,
   "id": "9725b692-fa21-40d1-b0a5-e3cab4d1fd52",
   "metadata": {},
   "outputs": [],
   "source": [
    "# run pca summary to see the amount of variance explained by each of the displayed PCs\n",
    "pca_summary(pca, df_z)"
   ]
  },
  {
   "cell_type": "code",
   "execution_count": null,
   "id": "f3eec997-7d87-47bb-a664-68327ea0e99a",
   "metadata": {},
   "outputs": [],
   "source": [
    "# display the coefficients associated with each metric in the principal components\n",
    "# first principal component - round the coefficients to 3 decimal points\n",
    "pca.components_[0].round(3)"
   ]
  },
  {
   "cell_type": "code",
   "execution_count": null,
   "id": "d878c351-2d3b-46ba-866a-8729f0ea3ef1",
   "metadata": {},
   "outputs": [],
   "source": [
    "# repeat above for the second principal component\n",
    "pca.components_[1].round(3)"
   ]
  },
  {
   "cell_type": "code",
   "execution_count": null,
   "id": "d80c544b-fc83-4961-9a9a-579777612454",
   "metadata": {},
   "outputs": [],
   "source": [
    "# display the columns to refernce against the coefficients in the last two cells\n",
    "df_z.columns.to_array"
   ]
  },
  {
   "cell_type": "code",
   "execution_count": null,
   "id": "6ffa25bd-3640-4c2d-95f0-46153848456a",
   "metadata": {},
   "outputs": [],
   "source": [
    "# hierarchical clustering - provides ability to see further granularity and inter-group similarities / differences compared to k-means\n",
    "\n",
    "# average linkage - compares using average distance between members of each cluster\n",
    "linkage_matrix = linkage(df_z, method='average', metric='euclidean')\n",
    "plt.figure(figsize=(12, 6))\n",
    "dendrogram(linkage_matrix, truncate_mode='lastp', p=20, leaf_rotation=90., leaf_font_size=8., show_contracted=True, labels=df_z.index)\n",
    "plt.title('Hierarchical Clustering Dendrogram with Complete Linkage')\n",
    "plt.xlabel('Data Points')\n",
    "plt.ylabel('Distance')\n",
    "plt.show()"
   ]
  }
 ],
 "metadata": {
  "kernelspec": {
   "display_name": "Python 3 (ipykernel)",
   "language": "python",
   "name": "python3"
  },
  "language_info": {
   "codemirror_mode": {
    "name": "ipython",
    "version": 3
   },
   "file_extension": ".py",
   "mimetype": "text/x-python",
   "name": "python",
   "nbconvert_exporter": "python",
   "pygments_lexer": "ipython3",
   "version": "3.12.4"
  }
 },
 "nbformat": 4,
 "nbformat_minor": 5
}
